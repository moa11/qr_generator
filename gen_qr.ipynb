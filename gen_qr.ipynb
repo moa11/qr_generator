{
 "cells": [
  {
   "cell_type": "code",
   "execution_count": 6,
   "metadata": {},
   "outputs": [],
   "source": [
    "import qrcode\n",
    "import location_cython\n",
    "import cv2\n",
    "import pyzbar\n",
    "import numpy as np\n",
    "from pyzbar.pyzbar import decode\n",
    "\n",
    "\n",
    "# Define your geolocation data as a Python dictionary\n",
    "location = {\n",
    "  \"latitude\": 50.3183202730564860,\n",
    "  \"longitude\": 3.5105228796591064,\n",
    "  \"orientation\":1\n",
    "\n",
    "}\n"
   ]
  },
  {
   "cell_type": "code",
   "execution_count": 7,
   "metadata": {},
   "outputs": [],
   "source": [
    "def encode_data(lati,lon):\n",
    "    lati =  location_cython.from_float2char2(lati)\n",
    "    lon =  location_cython.from_float2char2(lon)\n",
    "    return lati+lon\n"
   ]
  },
  {
   "cell_type": "code",
   "execution_count": 8,
   "metadata": {},
   "outputs": [],
   "source": [
    "encod_data=encode_data(location['latitude'] ,location['longitude'])\n"
   ]
  },
  {
   "cell_type": "code",
   "execution_count": 9,
   "metadata": {},
   "outputs": [],
   "source": [
    "# Generate a QR code image from the JSON string\n",
    "def make_qr(encode_data,name:str):\n",
    "    qr = qrcode.QRCode(version=None, error_correction=qrcode.constants.ERROR_CORRECT_L, box_size=10, border=2)\n",
    "    qr.add_data(encode_data)\n",
    "    qr.make(fit=True)\n",
    "\n",
    "    # Save the QR code image as a PNG file\n",
    "    img = qr.make_image(fill_color=\"black\", back_color=\"white\")\n",
    "    img.save('{}.png'.format(name))\n",
    "    return img\n",
    "\n",
    "\n",
    "\n"
   ]
  },
  {
   "cell_type": "code",
   "execution_count": 10,
   "metadata": {},
   "outputs": [],
   "source": [
    "img=make_qr(encode_data=encod_data,name=\"test\")\n"
   ]
  },
  {
   "cell_type": "code",
   "execution_count": 11,
   "metadata": {},
   "outputs": [],
   "source": [
    "def decode_qr(qrcodes):\n",
    "    data_enc=qrcodes[0].data.decode('utf8')\n",
    "    decoded_lat = bytes(list(map(ord,data_enc[:8])))\n",
    "    decoded_lon = bytes(list(map(ord,data_enc[8:])))\n",
    "\n",
    "\n",
    "    lat=location_cython.from_char2flaot(decoded_lat)\n",
    "    lon=location_cython.from_char2flaot(decoded_lon)\n",
    "    return lat,lon"
   ]
  },
  {
   "cell_type": "code",
   "execution_count": 12,
   "metadata": {},
   "outputs": [
    {
     "name": "stdout",
     "output_type": "stream",
     "text": [
      "50.318320273056486 3.5105228796591064\n"
     ]
    }
   ],
   "source": [
    "import location_cython\n",
    "img = cv2.imread('test.png')\n",
    "qrcodes = decode(img)\n",
    "lat,lon=decode_qr(qrcodes)\n",
    "print(lat,lon)\n",
    "\n"
   ]
  }
 ],
 "metadata": {
  "kernelspec": {
   "display_name": "proj",
   "language": "python",
   "name": "python3"
  },
  "language_info": {
   "codemirror_mode": {
    "name": "ipython",
    "version": 3
   },
   "file_extension": ".py",
   "mimetype": "text/x-python",
   "name": "python",
   "nbconvert_exporter": "python",
   "pygments_lexer": "ipython3",
   "version": "3.10.4"
  },
  "orig_nbformat": 4,
  "vscode": {
   "interpreter": {
    "hash": "db3093a2ed4a65c73b1eeab8f49cae6e4c21565f8cfe3e040e5203f2f80f8365"
   }
  }
 },
 "nbformat": 4,
 "nbformat_minor": 2
}
